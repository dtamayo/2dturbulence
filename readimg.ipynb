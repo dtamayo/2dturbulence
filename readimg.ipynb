{
 "cells": [
  {
   "cell_type": "code",
   "execution_count": 118,
   "metadata": {},
   "outputs": [],
   "source": [
    "import numpy as np\n",
    "import matplotlib.pyplot as plt\n",
    "%matplotlib inline\n",
    "import pyqg\n",
    "from PIL import Image\n",
    "from pyqg import diagnostic_tools as tools\n",
    "from collections import OrderedDict"
   ]
  },
  {
   "cell_type": "code",
   "execution_count": 90,
   "metadata": {},
   "outputs": [],
   "source": [
    "def splitmosaic(pix, res=128):\n",
    "    N1 = pix.shape[0]/res\n",
    "    N2 = pix.shape[1]/res\n",
    "    return [pix[res*i:res*(i+1), res*j:res*(j+1)].reshape(1, res, res).astype(float) for i in range(N1) for j in range(N2)]"
   ]
  },
  {
   "cell_type": "code",
   "execution_count": 91,
   "metadata": {},
   "outputs": [],
   "source": [
    "res = 128 # resolution of images"
   ]
  },
  {
   "cell_type": "code",
   "execution_count": 92,
   "metadata": {},
   "outputs": [],
   "source": [
    "pic = Image.open(\"reals.png\")\n",
    "pix = np.array(pic)\n",
    "reals = splitmosaic(pix, res)"
   ]
  },
  {
   "cell_type": "code",
   "execution_count": 93,
   "metadata": {},
   "outputs": [],
   "source": [
    "pic = Image.open(\"fakes007813.png\")\n",
    "pix = np.array(pic)\n",
    "fakes = splitmosaic(pix, res)"
   ]
  },
  {
   "cell_type": "code",
   "execution_count": 104,
   "metadata": {},
   "outputs": [
    {
     "name": "stderr",
     "output_type": "stream",
     "text": [
      "INFO:  Logger initialized\n",
      "INFO:  Logger initialized\n",
      "INFO:  Logger initialized\n",
      "INFO:  Logger initialized\n",
      "INFO:  Logger initialized\n",
      "INFO:  Logger initialized\n",
      "INFO:  Logger initialized\n",
      "INFO:  Logger initialized\n",
      "INFO:  Logger initialized\n",
      "INFO:  Logger initialized\n",
      "INFO:  Logger initialized\n",
      "INFO:  Logger initialized\n",
      "INFO:  Logger initialized\n",
      "INFO:  Logger initialized\n",
      "INFO:  Logger initialized\n",
      "INFO:  Logger initialized\n",
      "INFO:  Logger initialized\n",
      "INFO:  Logger initialized\n",
      "INFO:  Logger initialized\n",
      "INFO:  Logger initialized\n",
      "INFO:  Logger initialized\n",
      "INFO:  Logger initialized\n",
      "INFO:  Logger initialized\n",
      "INFO:  Logger initialized\n",
      "INFO:  Logger initialized\n",
      "INFO:  Logger initialized\n",
      "INFO:  Logger initialized\n",
      "INFO:  Logger initialized\n",
      "INFO:  Logger initialized\n",
      "INFO:  Logger initialized\n",
      "INFO:  Logger initialized\n",
      "INFO:  Logger initialized\n",
      "INFO:  Logger initialized\n",
      "INFO:  Logger initialized\n",
      "INFO:  Logger initialized\n",
      "INFO:  Logger initialized\n",
      "INFO:  Logger initialized\n",
      "INFO:  Logger initialized\n",
      "INFO:  Logger initialized\n",
      "INFO:  Logger initialized\n",
      "INFO:  Logger initialized\n",
      "INFO:  Logger initialized\n",
      "INFO:  Logger initialized\n",
      "INFO:  Logger initialized\n",
      "INFO:  Logger initialized\n",
      "INFO:  Logger initialized\n",
      "INFO:  Logger initialized\n",
      "INFO:  Logger initialized\n",
      "INFO:  Logger initialized\n",
      "INFO:  Logger initialized\n",
      "INFO:  Logger initialized\n",
      "INFO:  Logger initialized\n",
      "INFO:  Logger initialized\n",
      "INFO:  Logger initialized\n",
      "INFO:  Logger initialized\n",
      "INFO:  Logger initialized\n",
      "INFO:  Logger initialized\n",
      "INFO:  Logger initialized\n",
      "INFO:  Logger initialized\n",
      "INFO:  Logger initialized\n",
      "INFO:  Logger initialized\n",
      "INFO:  Logger initialized\n",
      "INFO:  Logger initialized\n",
      "INFO:  Logger initialized\n",
      "INFO:  Logger initialized\n",
      "INFO:  Logger initialized\n",
      "INFO:  Logger initialized\n",
      "INFO:  Logger initialized\n",
      "INFO:  Logger initialized\n",
      "INFO:  Logger initialized\n",
      "INFO:  Logger initialized\n",
      "INFO:  Logger initialized\n",
      "INFO:  Logger initialized\n",
      "INFO:  Logger initialized\n",
      "INFO:  Logger initialized\n",
      "INFO:  Logger initialized\n",
      "INFO:  Logger initialized\n",
      "INFO:  Logger initialized\n",
      "INFO:  Logger initialized\n",
      "INFO:  Logger initialized\n",
      "INFO:  Logger initialized\n",
      "INFO:  Logger initialized\n",
      "INFO:  Logger initialized\n",
      "INFO:  Logger initialized\n",
      "INFO:  Logger initialized\n",
      "INFO:  Logger initialized\n",
      "INFO:  Logger initialized\n",
      "INFO:  Logger initialized\n",
      "INFO:  Logger initialized\n",
      "INFO:  Logger initialized\n",
      "INFO:  Logger initialized\n",
      "INFO:  Logger initialized\n",
      "INFO:  Logger initialized\n",
      "INFO:  Logger initialized\n",
      "INFO:  Logger initialized\n",
      "INFO:  Logger initialized\n",
      "INFO:  Logger initialized\n",
      "INFO:  Logger initialized\n",
      "INFO:  Logger initialized\n",
      "INFO:  Logger initialized\n",
      "INFO:  Logger initialized\n",
      "INFO:  Logger initialized\n",
      "INFO:  Logger initialized\n",
      "INFO:  Logger initialized\n",
      "INFO:  Logger initialized\n",
      "INFO:  Logger initialized\n",
      "INFO:  Logger initialized\n",
      "INFO:  Logger initialized\n",
      "INFO:  Logger initialized\n",
      "INFO:  Logger initialized\n",
      "INFO:  Logger initialized\n",
      "INFO:  Logger initialized\n",
      "INFO:  Logger initialized\n",
      "INFO:  Logger initialized\n",
      "INFO:  Logger initialized\n",
      "INFO:  Logger initialized\n",
      "INFO:  Logger initialized\n",
      "INFO:  Logger initialized\n",
      "INFO:  Logger initialized\n",
      "INFO:  Logger initialized\n",
      "INFO:  Logger initialized\n",
      "INFO:  Logger initialized\n",
      "INFO:  Logger initialized\n",
      "INFO:  Logger initialized\n",
      "INFO:  Logger initialized\n",
      "INFO:  Logger initialized\n",
      "INFO:  Logger initialized\n",
      "INFO:  Logger initialized\n",
      "INFO:  Logger initialized\n",
      "INFO:  Logger initialized\n",
      "INFO:  Logger initialized\n",
      "INFO:  Logger initialized\n",
      "INFO:  Logger initialized\n",
      "INFO:  Logger initialized\n",
      "INFO:  Logger initialized\n",
      "INFO:  Logger initialized\n",
      "INFO:  Logger initialized\n",
      "INFO:  Logger initialized\n",
      "INFO:  Logger initialized\n",
      "INFO:  Logger initialized\n",
      "INFO:  Logger initialized\n",
      "INFO:  Logger initialized\n",
      "INFO:  Logger initialized\n",
      "INFO:  Logger initialized\n",
      "INFO:  Logger initialized\n",
      "INFO:  Logger initialized\n",
      "INFO:  Logger initialized\n",
      "INFO:  Logger initialized\n",
      "INFO:  Logger initialized\n",
      "INFO:  Logger initialized\n",
      "INFO:  Logger initialized\n",
      "INFO:  Logger initialized\n",
      "INFO:  Logger initialized\n",
      "INFO:  Logger initialized\n",
      "INFO:  Logger initialized\n",
      "INFO:  Logger initialized\n",
      "INFO:  Logger initialized\n",
      "INFO:  Logger initialized\n",
      "INFO:  Logger initialized\n",
      "INFO:  Logger initialized\n",
      "INFO:  Logger initialized\n",
      "INFO:  Logger initialized\n",
      "INFO:  Logger initialized\n",
      "INFO:  Logger initialized\n",
      "INFO:  Logger initialized\n",
      "INFO:  Logger initialized\n",
      "INFO:  Logger initialized\n",
      "INFO:  Logger initialized\n",
      "INFO:  Logger initialized\n",
      "INFO:  Logger initialized\n",
      "INFO:  Logger initialized\n",
      "INFO:  Logger initialized\n",
      "INFO:  Logger initialized\n",
      "INFO:  Logger initialized\n",
      "INFO:  Logger initialized\n",
      "INFO:  Logger initialized\n",
      "INFO:  Logger initialized\n",
      "INFO:  Logger initialized\n",
      "INFO:  Logger initialized\n",
      "INFO:  Logger initialized\n",
      "INFO:  Logger initialized\n",
      "INFO:  Logger initialized\n",
      "INFO:  Logger initialized\n",
      "INFO:  Logger initialized\n",
      "INFO:  Logger initialized\n",
      "INFO:  Logger initialized\n",
      "INFO:  Logger initialized\n",
      "INFO:  Logger initialized\n",
      "INFO:  Logger initialized\n",
      "INFO:  Logger initialized\n",
      "INFO:  Logger initialized\n",
      "INFO:  Logger initialized\n",
      "INFO:  Logger initialized\n",
      "INFO:  Logger initialized\n",
      "INFO:  Logger initialized\n",
      "INFO:  Logger initialized\n",
      "INFO:  Logger initialized\n",
      "INFO:  Logger initialized\n",
      "INFO:  Logger initialized\n",
      "INFO:  Logger initialized\n",
      "INFO:  Logger initialized\n",
      "INFO:  Logger initialized\n",
      "INFO:  Logger initialized\n",
      "INFO:  Logger initialized\n",
      "INFO:  Logger initialized\n",
      "INFO:  Logger initialized\n",
      "INFO:  Logger initialized\n",
      "INFO:  Logger initialized\n",
      "INFO:  Logger initialized\n",
      "INFO:  Logger initialized\n",
      "INFO:  Logger initialized\n",
      "INFO:  Logger initialized\n",
      "INFO:  Logger initialized\n",
      "INFO:  Logger initialized\n",
      "INFO:  Logger initialized\n",
      "INFO:  Logger initialized\n",
      "INFO:  Logger initialized\n",
      "INFO:  Logger initialized\n",
      "INFO:  Logger initialized\n",
      "INFO:  Logger initialized\n",
      "INFO:  Logger initialized\n",
      "INFO:  Logger initialized\n",
      "INFO:  Logger initialized\n",
      "INFO:  Logger initialized\n",
      "INFO:  Logger initialized\n",
      "INFO:  Logger initialized\n",
      "INFO:  Logger initialized\n",
      "INFO:  Logger initialized\n",
      "INFO:  Logger initialized\n",
      "INFO:  Logger initialized\n",
      "INFO:  Logger initialized\n",
      "INFO:  Logger initialized\n",
      "INFO:  Logger initialized\n",
      "INFO:  Logger initialized\n",
      "INFO:  Logger initialized\n",
      "INFO:  Logger initialized\n",
      "INFO:  Logger initialized\n",
      "INFO:  Logger initialized\n",
      "INFO:  Logger initialized\n",
      "INFO:  Logger initialized\n"
     ]
    },
    {
     "name": "stdout",
     "output_type": "stream",
     "text": [
      "CPU times: user 50.5 s, sys: 1.04 s, total: 51.6 s\n",
      "Wall time: 8.67 s\n"
     ]
    }
   ],
   "source": [
    "%%time\n",
    "E, energy, enstrophy, kr, energy_iso, enstrophy_iso, Ef, energyf, enstrophyf, krf, energy_isof, enstrophy_isof = [], [], [], [], [], [], [], [], [], [], [], []\n",
    "for real in reals:\n",
    "    m = pyqg.BTModel(L=2.*np.pi, nx=128, beta=0., H=1., rek=0., rd=None, tmax=0.01, dt=0.001, taveint=0.001, ntd=1)\n",
    "    m.set_q(real)\n",
    "    m.run()\n",
    "    E.append(m._calc_ke())\n",
    "    energy.append(m.get_diagnostic('KEspec'))\n",
    "    enstrophy.append(m.get_diagnostic('Ensspec'))\n",
    "    _kr, _energy_iso = tools.calc_ispec(m,energy[-1].squeeze())\n",
    "    kr.append(_kr)\n",
    "    energy_iso.append(_energy_iso)\n",
    "    _, _enstrophy_iso = tools.calc_ispec(m,enstrophy[-1].squeeze())\n",
    "    enstrophy_iso.append(_enstrophy_iso)\n",
    "for fake in fakes:\n",
    "    m = pyqg.BTModel(L=2.*np.pi, nx=128, beta=0., H=1., rek=0., rd=None, tmax=0.01, dt=0.001, taveint=0.001, ntd=1)\n",
    "    m.set_q(fake)\n",
    "    m.run()\n",
    "    Ef.append(m._calc_ke())\n",
    "    energyf.append(m.get_diagnostic('KEspec'))\n",
    "    enstrophyf.append(m.get_diagnostic('Ensspec'))\n",
    "    _krf, _energy_isof = tools.calc_ispec(m,energyf[-1].squeeze())\n",
    "    krf.append(_krf)\n",
    "    energy_isof.append(_energy_isof)\n",
    "    _, _enstrophy_isof = tools.calc_ispec(m,enstrophyf[-1].squeeze())\n",
    "    enstrophy_isof.append(_enstrophy_isof)"
   ]
  },
  {
   "cell_type": "code",
   "execution_count": 115,
   "metadata": {},
   "outputs": [
    {
     "data": {
      "text/plain": [
       "Text(0.5,1,'Energy Spectrum')"
      ]
     },
     "execution_count": 115,
     "metadata": {},
     "output_type": "execute_result"
    },
    {
     "data": {
      "image/png": "[encoded data removed]",
      "text/plain": [
       "<Figure size 432x288 with 1 Axes>"
      ]
     },
     "metadata": {
      "needs_background": "light"
     },
     "output_type": "display_data"
    }
   ],
   "source": [
    "fig, ax = plt.subplots()\n",
    "ks = np.array([3.,80])\n",
    "es = 5*ks**-4\n",
    "for i in range(len(kr)):\n",
    "    ax.loglog(kr[i],energy_iso[i], c='b', alpha=0.01, label='real')\n",
    "for i in range(len(krf)):\n",
    "    ax.loglog(krf[i],energy_isof[i], c='r', alpha=0.01, label='fake')\n",
    "ax.loglog(ks,es,'k--')\n",
    "handles, labels = plt.gca().get_legend_handles_labels()\n",
    "by_label = OrderedDict(zip(labels, handles))\n",
    "leg=plt.legend(by_label.values(), by_label.keys())\n",
    "for l in leg.get_lines():\n",
    "    l.set_alpha(1)\n",
    "ax.text(2.5,.0001,r'$k^{-4}$',fontsize=20)\n",
    "ax.set_ylim([1.e-10,1.e0])\n",
    "ax.set_xlabel('wavenumber')\n",
    "ax.set_title('Energy Spectrum')"
   ]
  },
  {
   "cell_type": "code",
   "execution_count": 117,
   "metadata": {},
   "outputs": [
    {
     "data": {
      "text/plain": [
       "Text(0.5,1,'Enstrophy Spectrum')"
      ]
     },
     "execution_count": 117,
     "metadata": {},
     "output_type": "execute_result"
    },
    {
     "data": {
      "image/png": "[encoded data removed]",
      "text/plain": [
       "<Figure size 432x288 with 1 Axes>"
      ]
     },
     "metadata": {
      "needs_background": "light"
     },
     "output_type": "display_data"
    }
   ],
   "source": [
    "fig, ax = plt.subplots()\n",
    "ks = np.array([3.,80])\n",
    "es = 5*ks**(-5./3)\n",
    "for i in range(len(kr)):\n",
    "    ax.loglog(kr[i],enstrophy_iso[i], c='b', alpha=0.01, label='real')\n",
    "for i in range(len(krf)):\n",
    "    ax.loglog(krf[i],enstrophy_isof[i], c='r', alpha=0.01, label='fake')\n",
    "ax.loglog(ks,es,'k--')\n",
    "handles, labels = plt.gca().get_legend_handles_labels()\n",
    "by_label = OrderedDict(zip(labels, handles))\n",
    "leg=plt.legend(by_label.values(), by_label.keys())\n",
    "for l in leg.get_lines():\n",
    "    l.set_alpha(1)\n",
    "ax.text(5.5,.01,r'$k^{-5/3}$',fontsize=20)\n",
    "ax.set_ylim([1.e-3,1.e1])\n",
    "ax.set_xlabel('wavenumber')\n",
    "ax.set_title('Enstrophy Spectrum')"
   ]
  },
  {
   "cell_type": "code",
   "execution_count": 39,
   "metadata": {},
   "outputs": [
    {
     "name": "stderr",
     "output_type": "stream",
     "text": [
      "INFO: Step: 1000, Time: 1.00e+00, KE: 2.55e+00, CFL: 0.134\n"
     ]
    },
    {
     "name": "stdout",
     "output_type": "stream",
     "text": [
      "CPU times: user 10.2 s, sys: 81.6 ms, total: 10.3 s\n",
      "Wall time: 1.72 s\n"
     ]
    }
   ],
   "source": [
    "%%time\n",
    "Nout = 10\n",
    "tmax = 1\n",
    "times = np.linspace(m.t, tmax, Nout)\n",
    "KE = np.zeros(Nout)\n",
    "PE = np.zeros(Nout)\n",
    "for i, time in enumerate(times):\n",
    "    m.tmax = time\n",
    "    m.run()\n",
    "    KE[i] = m._calc_ke()\n",
    "    PE[i] = (m.q**2).sum()"
   ]
  },
  {
   "cell_type": "code",
   "execution_count": 48,
   "metadata": {},
   "outputs": [
    {
     "name": "stderr",
     "output_type": "stream",
     "text": [
      "INFO: Step: 1000, Time: 1.00e+00, KE: 2.98e+00, CFL: 0.120\n"
     ]
    },
    {
     "name": "stdout",
     "output_type": "stream",
     "text": [
      "CPU times: user 10.7 s, sys: 113 ms, total: 10.8 s\n",
      "Wall time: 1.82 s\n"
     ]
    }
   ],
   "source": [
    "%%time\n",
    "Nout = 10\n",
    "tmax = 1\n",
    "times = np.linspace(m2.t, tmax, Nout)\n",
    "KE2 = np.zeros(Nout)\n",
    "PE2 = np.zeros(Nout)\n",
    "for i, time in enumerate(times):\n",
    "    m2.tmax = time\n",
    "    m2.run()\n",
    "    KE2[i] = m2._calc_ke()\n",
    "    PE2[i] = (m2.q**2).sum()"
   ]
  },
  {
   "cell_type": "code",
   "execution_count": 49,
   "metadata": {},
   "outputs": [
    {
     "data": {
      "text/plain": [
       "[<matplotlib.lines.Line2D at 0x1135eda50>]"
      ]
     },
     "execution_count": 49,
     "metadata": {},
     "output_type": "execute_result"
    },
    {
     "data": {
      "image/png": "[encoded data removed]",
      "text/plain": [
       "<Figure size 432x288 with 1 Axes>"
      ]
     },
     "metadata": {
      "needs_background": "light"
     },
     "output_type": "display_data"
    }
   ],
   "source": [
    "fig, ax = plt.subplots()\n",
    "ax.plot(times, KE, '.')\n",
    "ax.plot(times, KE2, '.')"
   ]
  },
  {
   "cell_type": "code",
   "execution_count": null,
   "metadata": {},
   "outputs": [],
   "source": []
  }
 ],
 "metadata": {
  "kernelspec": {
   "display_name": "Python 2",
   "language": "python",
   "name": "python2"
  },
  "language_info": {
   "codemirror_mode": {
    "name": "ipython",
    "version": 2
   },
   "file_extension": ".py",
   "mimetype": "text/x-python",
   "name": "python",
   "nbconvert_exporter": "python",
   "pygments_lexer": "ipython2",
   "version": "2.7.15"
  }
 },
 "nbformat": 4,
 "nbformat_minor": 2
}
